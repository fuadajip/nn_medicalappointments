{
 "cells": [
  {
   "cell_type": "code",
   "execution_count": 140,
   "metadata": {},
   "outputs": [],
   "source": [
    "import pandas as pds\n",
    "import numpy as np\n",
    "\n",
    "from keras.models import Sequential\n",
    "from keras.layers import Dense\n",
    "import keras\n",
    "tbCallBack = keras.callbacks.TensorBoard(log_dir='/tmp/keras_logs', write_graph=True)"
   ]
  },
  {
   "cell_type": "code",
   "execution_count": 145,
   "metadata": {},
   "outputs": [
    {
     "name": "stdout",
     "output_type": "stream",
     "text": [
      "      PatientId  AppointmentID Gender  Age  Scholarship  Hipertension  \\\n",
      "0  2.987250e+13        5642903      F   62            0             1   \n",
      "1  5.589978e+14        5642503      M   56            0             0   \n",
      "2  4.262962e+12        5642549      F   62            0             0   \n",
      "3  8.679512e+11        5642828      F    8            0             0   \n",
      "4  8.841186e+12        5642494      F   56            0             1   \n",
      "\n",
      "   Diabetes  Alcoholism  Handcap  SMS_received  \n",
      "0         0           0        0             0  \n",
      "1         0           0        0             0  \n",
      "2         0           0        0             0  \n",
      "3         0           0        0             0  \n",
      "4         1           0        0             0  \n",
      "  Status\n",
      "0     No\n",
      "1     No\n",
      "2     No\n",
      "3     No\n",
      "4     No\n"
     ]
    }
   ],
   "source": [
    "# preprocess dataset\n",
    "\n",
    "dataframeX = pds.read_csv(\"KaggleV2-May-2016.csv\", usecols=[0,1,2,5,7,8,9,10,11,12])\n",
    "dataframeY = pds.read_csv(\"KaggleV2-May-2016.csv\", usecols=[13])\n",
    "\n",
    "print(dataframeX.head())\n",
    "print(dataframeY.head())"
   ]
  },
  {
   "cell_type": "code",
   "execution_count": 146,
   "metadata": {},
   "outputs": [
    {
     "name": "stdout",
     "output_type": "stream",
     "text": [
      "      PatientId  AppointmentID  Gender  Age  Scholarship  Hipertension  \\\n",
      "0  2.987250e+13        5642903       1   62            0             1   \n",
      "1  5.589978e+14        5642503       0   56            0             0   \n",
      "2  4.262962e+12        5642549       1   62            0             0   \n",
      "3  8.679512e+11        5642828       1    8            0             0   \n",
      "4  8.841186e+12        5642494       1   56            0             1   \n",
      "\n",
      "   Diabetes  Alcoholism  Handcap  SMS_received  \n",
      "0         0           0        0             0  \n",
      "1         0           0        0             0  \n",
      "2         0           0        0             0  \n",
      "3         0           0        0             0  \n",
      "4         1           0        0             0  \n",
      "   Status\n",
      "0       0\n",
      "1       0\n",
      "2       0\n",
      "3       0\n",
      "4       0\n"
     ]
    }
   ],
   "source": [
    "# convert extract feature insto numeric value\n",
    "def genderToInt(gender):\n",
    "    if gender == \"M\":\n",
    "        return 0\n",
    "    else:\n",
    "        return 1\n",
    "\n",
    "def statusToInt(status):\n",
    "    if status == \"No\":\n",
    "        return 0\n",
    "    else:\n",
    "        return 1\n",
    "\n",
    "dataframeX.Gender = dataframeX.Gender.apply(genderToInt)\n",
    "dataframeY.Status = dataframeY.Status.apply(statusToInt)\n",
    "\n",
    "print(dataframeX.head())\n",
    "print(dataframeY.head())"
   ]
  },
  {
   "cell_type": "code",
   "execution_count": 149,
   "metadata": {},
   "outputs": [
    {
     "name": "stdout",
     "output_type": "stream",
     "text": [
      "_________________________________________________________________\n",
      "Layer (type)                 Output Shape              Param #   \n",
      "=================================================================\n",
      "dense_13 (Dense)             (None, 12)                132       \n",
      "_________________________________________________________________\n",
      "dense_14 (Dense)             (None, 12)                156       \n",
      "_________________________________________________________________\n",
      "dense_15 (Dense)             (None, 1)                 13        \n",
      "=================================================================\n",
      "Total params: 301\n",
      "Trainable params: 301\n",
      "Non-trainable params: 0\n",
      "_________________________________________________________________\n"
     ]
    },
    {
     "name": "stderr",
     "output_type": "stream",
     "text": [
      "/Users/mac/anaconda2/envs/MachineLearning/lib/python3.6/site-packages/ipykernel_launcher.py:6: UserWarning: Update your `Dense` call to the Keras 2 API: `Dense(12, input_shape=(10,), activation=\"sigmoid\", kernel_initializer=\"uniform\")`\n",
      "  \n",
      "/Users/mac/anaconda2/envs/MachineLearning/lib/python3.6/site-packages/ipykernel_launcher.py:7: UserWarning: Update your `Dense` call to the Keras 2 API: `Dense(12, activation=\"sigmoid\", kernel_initializer=\"uniform\")`\n",
      "  import sys\n",
      "/Users/mac/anaconda2/envs/MachineLearning/lib/python3.6/site-packages/ipykernel_launcher.py:8: UserWarning: Update your `Dense` call to the Keras 2 API: `Dense(1, activation=\"sigmoid\", kernel_initializer=\"uniform\")`\n",
      "  \n"
     ]
    }
   ],
   "source": [
    "# creating neural network\n",
    "seed = 7\n",
    "np.random.seed(seed)\n",
    "\n",
    "model = Sequential()\n",
    "model.add(Dense(12, input_shape=(10,), init=\"uniform\", activation=\"sigmoid\"))\n",
    "model.add(Dense(12, init=\"uniform\", activation=\"sigmoid\"))\n",
    "model.add(Dense(1, init=\"uniform\", activation=\"sigmoid\"))\n",
    "model.summary()"
   ]
  },
  {
   "cell_type": "code",
   "execution_count": 150,
   "metadata": {},
   "outputs": [
    {
     "name": "stdout",
     "output_type": "stream",
     "text": [
      "Train on 77368 samples, validate on 33159 samples\n",
      "Epoch 1/9\n",
      "77368/77368 [==============================] - 2s 27us/step - loss: 0.1677 - acc: 0.7923 - val_loss: 0.1542 - val_acc: 0.8098\n",
      "Epoch 2/9\n",
      "77368/77368 [==============================] - 2s 24us/step - loss: 0.1642 - acc: 0.7930 - val_loss: 0.1541 - val_acc: 0.8098\n",
      "Epoch 3/9\n",
      "77368/77368 [==============================] - 2s 24us/step - loss: 0.1642 - acc: 0.7930 - val_loss: 0.1542 - val_acc: 0.8098\n",
      "Epoch 4/9\n",
      "77368/77368 [==============================] - 2s 25us/step - loss: 0.1642 - acc: 0.7930 - val_loss: 0.1542 - val_acc: 0.8098\n",
      "Epoch 5/9\n",
      "77368/77368 [==============================] - 2s 25us/step - loss: 0.1642 - acc: 0.7930 - val_loss: 0.1543 - val_acc: 0.8098\n",
      "Epoch 6/9\n",
      "77368/77368 [==============================] - 2s 25us/step - loss: 0.1642 - acc: 0.7930 - val_loss: 0.1541 - val_acc: 0.8098\n",
      "Epoch 7/9\n",
      "77368/77368 [==============================] - 2s 25us/step - loss: 0.1642 - acc: 0.7930 - val_loss: 0.1540 - val_acc: 0.8098\n",
      "Epoch 8/9\n",
      "77368/77368 [==============================] - 2s 24us/step - loss: 0.1642 - acc: 0.7930 - val_loss: 0.1542 - val_acc: 0.8098\n",
      "Epoch 9/9\n",
      "77368/77368 [==============================] - 2s 25us/step - loss: 0.1642 - acc: 0.7930 - val_loss: 0.1547 - val_acc: 0.8098\n"
     ]
    },
    {
     "data": {
      "text/plain": [
       "<keras.callbacks.History at 0x10fc3d4a8>"
      ]
     },
     "execution_count": 150,
     "metadata": {},
     "output_type": "execute_result"
    }
   ],
   "source": [
    "model.compile(loss='mean_squared_error', optimizer='adam', metrics=['accuracy'])\n",
    "model.fit(dataframeX.values, dataframeY.values, epochs=9, batch_size=50,  verbose=1, validation_split=0.3, callbacks=[tbCallBack])"
   ]
  },
  {
   "cell_type": "code",
   "execution_count": 159,
   "metadata": {},
   "outputs": [
    {
     "ename": "TypeError",
     "evalue": "predict() missing 1 required positional argument: 'x'",
     "output_type": "error",
     "traceback": [
      "\u001b[0;31m---------------------------------------------------------------------------\u001b[0m",
      "\u001b[0;31mTypeError\u001b[0m                                 Traceback (most recent call last)",
      "\u001b[0;32m<ipython-input-159-c14c5ee82961>\u001b[0m in \u001b[0;36m<module>\u001b[0;34m()\u001b[0m\n\u001b[0;32m----> 1\u001b[0;31m \u001b[0mmodel\u001b[0m\u001b[0;34m.\u001b[0m\u001b[0mpredict\u001b[0m\u001b[0;34m(\u001b[0m\u001b[0;34m)\u001b[0m\u001b[0;34m\u001b[0m\u001b[0m\n\u001b[0m",
      "\u001b[0;31mTypeError\u001b[0m: predict() missing 1 required positional argument: 'x'"
     ]
    }
   ],
   "source": [
    "model.predict()\n"
   ]
  },
  {
   "cell_type": "code",
   "execution_count": null,
   "metadata": {},
   "outputs": [],
   "source": []
  }
 ],
 "metadata": {
  "kernelspec": {
   "display_name": "Python 3",
   "language": "python",
   "name": "python3"
  },
  "language_info": {
   "codemirror_mode": {
    "name": "ipython",
    "version": 3
   },
   "file_extension": ".py",
   "mimetype": "text/x-python",
   "name": "python",
   "nbconvert_exporter": "python",
   "pygments_lexer": "ipython3",
   "version": "3.6.2"
  }
 },
 "nbformat": 4,
 "nbformat_minor": 2
}
